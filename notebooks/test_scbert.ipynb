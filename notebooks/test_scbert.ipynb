{
 "cells": [
  {
   "cell_type": "code",
   "execution_count": 90,
   "metadata": {},
   "outputs": [],
   "source": [
    "import os, sys\n",
    "import numpy as np\n",
    "import pandas as pd\n",
    "import scanpy as sc\n",
    "\n",
    "from tqdm import tqdm\n",
    "\n",
    "import time\n",
    "import logging\n",
    "\n",
    "import torch\n",
    "import torch.nn as nn\n",
    "from torch.optim import lr_scheduler\n",
    "from torch.utils.data import DataLoader\n",
    "\n",
    "sys.path.append(\"..\")\n",
    "\n",
    "import matplotlib.pyplot as plt\n",
    "\n",
    "import ipywidgets as widgets\n",
    "from ipywidgets import interact\n",
    "\n",
    "from functools import partial\n",
    "from masking import data_mask\n",
    "from data.multi_file_dataset import MultiScRNADataset as scRNADataset\n",
    "from model.performer.performer import PerformerLM\n",
    "\n",
    "from sklearn.model_selection import train_test_split\n",
    "from sklearn.linear_model import LogisticRegression\n",
    "from sklearn.metrics import classification_report, confusion_matrix, ConfusionMatrixDisplay"
   ]
  },
  {
   "cell_type": "code",
   "execution_count": 48,
   "metadata": {},
   "outputs": [],
   "source": [
    "DATA_PREFIX = \"/mnt/data/01_repos/scFoundationModel/data/transforms/root_3932_genes\""
   ]
  },
  {
   "cell_type": "code",
   "execution_count": 49,
   "metadata": {},
   "outputs": [],
   "source": [
    "# data_path = f\"{os.getenv('HOME')}/data/scrna_seq_arabidopsis/transforms/root_3932_genes\"\n",
    "test_dataset = scRNADataset(f\"{DATA_PREFIX}/test\")\n",
    "device = torch.device(\"cuda\" if torch.cuda.is_available() else \"cpu\")"
   ]
  },
  {
   "cell_type": "code",
   "execution_count": null,
   "metadata": {},
   "outputs": [
    {
     "name": "stderr",
     "output_type": "stream",
     "text": [
      "/home/rbonazzola/repos/scFoundationModel/notebooks/../model/performer/performer.py:115: UserWarning: torch.qr is deprecated in favor of torch.linalg.qr and will be removed in a future PyTorch release.\n",
      "The boolean parameter 'some' has been replaced with a string parameter 'mode'.\n",
      "Q, R = torch.qr(A, some)\n",
      "should be replaced with\n",
      "Q, R = torch.linalg.qr(A, 'reduced' if some else 'complete') (Triggered internally at /pytorch/aten/src/ATen/native/BatchLinearAlgebra.cpp:2485.)\n",
      "  q, r = torch.qr(unstructured_block.cpu(), some = True)\n"
     ]
    },
    {
     "data": {
      "text/plain": [
       "<All keys matched successfully>"
      ]
     },
     "execution_count": 3,
     "metadata": {},
     "output_type": "execute_result"
    }
   ],
   "source": [
    "ckpt = torch.load(\"../checkpoints/02cfdb5ecf904c9fb8c734f82c56171d/performer_model_13.pth\", map_location=\"cpu\")\n",
    "model_weights = { k.replace(\"_orig_mod.\", \"\"): v for k,v in ckpt['model_state_dict'].items() }\n",
    "\n",
    "N_GENES = 3932\n",
    "\n",
    "model = PerformerLM(**{\n",
    "    \"num_tokens\": 7,\n",
    "    \"dim\": 200,\n",
    "    \"depth\": 4,\n",
    "    \"max_seq_len\": N_GENES + 1,\n",
    "    \"heads\": 10,\n",
    "    \"local_attn_heads\": 0,\n",
    "    \"g2v_position_emb\": None\n",
    "}).to(device)\n",
    "\n",
    "model.load_state_dict(model_weights)"
   ]
  },
  {
   "cell_type": "code",
   "execution_count": null,
   "metadata": {},
   "outputs": [],
   "source": [
    "# test_dataset[0].unsqueeze(0)"
   ]
  },
  {
   "cell_type": "code",
   "execution_count": null,
   "metadata": {},
   "outputs": [
    {
     "data": {
      "text/plain": [
       "0    3758\n",
       "6     162\n",
       "3       8\n",
       "2       4\n",
       "Name: count, dtype: int64"
      ]
     },
     "execution_count": 5,
     "metadata": {},
     "output_type": "execute_result"
    }
   ],
   "source": [
    "mask = partial(data_mask, mask_prob=1.00)\n",
    "\n",
    "x = test_dataset[0].unsqueeze(0)\n",
    "pd.Series(mask(x)[0][0]).value_counts()"
   ]
  },
  {
   "cell_type": "code",
   "execution_count": null,
   "metadata": {},
   "outputs": [
    {
     "data": {
      "application/vnd.jupyter.widget-view+json": {
       "model_id": "977d2bc51de74bd9bfb895d53c7597ea",
       "version_major": 2,
       "version_minor": 0
      },
      "text/plain": [
       "interactive(children=(IntSlider(value=0, description='i', max=10000), FloatSlider(value=0.0, description='prob…"
      ]
     },
     "metadata": {},
     "output_type": "display_data"
    }
   ],
   "source": [
    "@interact\n",
    "def show_conf_matrix(i=widgets.IntSlider(min=0, max=10000), prob_mask=widgets.FloatSlider(min=0, max=1, value=0, step=0.05)):\n",
    "\n",
    "    mask = partial(data_mask, mask_prob=prob_mask)\n",
    "    \n",
    "    x = test_dataset[i].unsqueeze(0).to(device)  \n",
    "    x_masked, _ = mask(x)\n",
    "\n",
    "    true_labels = test_dataset[i].detach()\n",
    "    with torch.no_grad():\n",
    "        pred_labels_no_masking = torch.softmax(model(x).squeeze(0), 1).argmax(axis=1)\n",
    "        pred_labels_masking    = torch.softmax(model(x_masked).squeeze(0), 1).argmax(axis=1)\n",
    "    \n",
    "    y_true            = true_labels.cpu().numpy()\n",
    "    y_pred_no_masking = pred_labels_no_masking.cpu().numpy()\n",
    "    y_pred_masking    = pred_labels_masking.cpu().numpy()\n",
    "    \n",
    "    bins = range(1, 7)\n",
    "    cm_no_mask = confusion_matrix(y_true, y_pred_no_masking, labels=bins)\n",
    "    cm_mask    = confusion_matrix(y_true, y_pred_masking   , labels=bins)\n",
    "    \n",
    "    disp = ConfusionMatrixDisplay(confusion_matrix=cm_mask, display_labels=[f\"B{i}\" for i in bins])\n",
    "    disp.plot(cmap=\"Blues\", values_format=\"d\")\n",
    "    plt.title(\"Confusion Matrix - scBERT\")\n",
    "    plt.show()"
   ]
  },
  {
   "cell_type": "code",
   "execution_count": null,
   "metadata": {},
   "outputs": [],
   "source": [
    "test_dataloader = DataLoader(test_dataset, batch_size=32, num_workers=16)"
   ]
  },
  {
   "cell_type": "code",
   "execution_count": null,
   "metadata": {},
   "outputs": [
    {
     "name": "stderr",
     "output_type": "stream",
     "text": [
      "  0%|          | 10/3684 [00:06<39:31,  1.55it/s]\n"
     ]
    },
    {
     "ename": "KeyboardInterrupt",
     "evalue": "",
     "output_type": "error",
     "traceback": [
      "\u001b[31m---------------------------------------------------------------------------\u001b[39m",
      "\u001b[31mKeyboardInterrupt\u001b[39m                         Traceback (most recent call last)",
      "\u001b[36mCell\u001b[39m\u001b[36m \u001b[39m\u001b[32mIn[8]\u001b[39m\u001b[32m, line 6\u001b[39m\n\u001b[32m      3\u001b[39m \u001b[38;5;28;01mfor\u001b[39;00m batch \u001b[38;5;129;01min\u001b[39;00m tqdm(test_dataloader):\n\u001b[32m      5\u001b[39m     x = batch \u001b[38;5;66;03m# test_dataset[i].unsqueeze(0).to(device)  \u001b[39;00m\n\u001b[32m----> \u001b[39m\u001b[32m6\u001b[39m     x = \u001b[43mx\u001b[49m\u001b[43m.\u001b[49m\u001b[43mto\u001b[49m\u001b[43m(\u001b[49m\u001b[43mdevice\u001b[49m\u001b[43m)\u001b[49m\n\u001b[32m      7\u001b[39m     x_masked, _ = mask(x)\n\u001b[32m      9\u001b[39m     \u001b[38;5;66;03m# true_labels = test_dataset[i].detach()\u001b[39;00m\n",
      "\u001b[31mKeyboardInterrupt\u001b[39m: "
     ]
    }
   ],
   "source": [
    "mask = partial(data_mask, mask_prob=0.15)    \n",
    "    \n",
    "for batch in tqdm(test_dataloader):\n",
    "        \n",
    "    x = batch # test_dataset[i].unsqueeze(0).to(device)  \n",
    "    x = x.to(device)\n",
    "    x_masked, _ = mask(x)\n",
    "\n",
    "    # true_labels = test_dataset[i].detach()\n",
    "    with torch.no_grad():\n",
    "        pred_labels_no_masking = torch.softmax(model(x).squeeze(0), 1).argmax(axis=1)\n",
    "        # pred_labels_masking    = torch.softmax(model(x_masked, return_encodings=True).squeeze(0), 1).argmax(axis=1)\n",
    "        pred_labels_masking    = model(x_masked, return_encodings=True)\n",
    "    \n",
    "    # y_true            = true_labels.cpu().numpy()\n",
    "    # y_pred_no_masking = pred_labels_no_masking.cpu().numpy()\n",
    "    # y_pred_masking    = pred_labels_masking.cpu().numpy()\n",
    "    \n",
    "    # bins = range(1, 7)\n",
    "    # cm_no_mask = confusion_matrix(y_true, y_pred_no_masking, labels=bins)\n",
    "    # cm_mask    = confusion_matrix(y_true, y_pred_masking   , labels=bins)\n",
    "    \n",
    "    # disp = ConfusionMatrixDisplay(confusion_matrix=cm_mask, display_labels=[f\"B{i}\" for i in bins])\n",
    "    # disp.plot(cmap=\"Blues\", values_format=\"d\")\n",
    "    # plt.title(\"Confusion Matrix - scBERT\")\n",
    "    # plt.show()"
   ]
  },
  {
   "cell_type": "code",
   "execution_count": null,
   "metadata": {},
   "outputs": [],
   "source": [
    "folder_path = \"/home/rbonazzola/data/scrna_seq_arabidopsis/transforms/root_3932_genes/\""
   ]
  },
  {
   "cell_type": "code",
   "execution_count": 57,
   "metadata": {},
   "outputs": [],
   "source": [
    "N_CLASSES = 7\n",
    "\n",
    "class SCDataset(torch.utils.data.Dataset):\n",
    "    \n",
    "    def __init__(self, data_path):\n",
    "        \n",
    "        h5ad_files = sorted([f for f in os.listdir(DATA_PREFIX) if f.endswith('.h5ad')])\n",
    "        h5ad_files\n",
    "\n",
    "        file_paths = [os.path.join(DATA_PREFIX, f) for f in h5ad_files]\n",
    "\n",
    "        # Find common genes\n",
    "        gene_sets = []\n",
    "        for path in file_paths:\n",
    "            adata = sc.read_h5ad(path, backed='r')\n",
    "            gene_sets.append(set(adata.var_names))\n",
    "            adata.file.close()\n",
    "        common_genes = set.intersection(*gene_sets)\n",
    " \n",
    "        first_adata = sc.read_h5ad(file_paths[0], backed='r')\n",
    "        selected_genes = [g for g in first_adata.var_names if g in common_genes][:4000]\n",
    "        first_adata.file.close()\n",
    "\n",
    "        adata = sc.read_h5ad(data_path)\n",
    "        adata = adata[:, selected_genes]\n",
    "        X = adata.X.toarray()        \n",
    "        \n",
    "        markers_df = pd.read_csv(\"../arabidopsis_thaliana.marker_fd.csv.gz\", compression=\"gzip\")\n",
    "        markers_df = markers_df.query(\"tissue == 'Root'\")\n",
    "        markers_df = markers_df[markers_df['gene'].isin(adata.var_names)]\n",
    "        \n",
    "        celltype_scores = {}\n",
    "        for cell_type in markers_df['clusterName'].unique():        \n",
    "            sub = markers_df[markers_df['clusterName'] == cell_type]\n",
    "            expr_matrix = adata[:, sub['gene']].X.toarray()\n",
    "            weights = sub['avg_log2FC'].values\n",
    "            weighted_score = expr_matrix @ weights\n",
    "            celltype_scores[cell_type] = weighted_score\n",
    "        \n",
    "        \n",
    "        score_df = pd.DataFrame(celltype_scores, index=adata.obs_names)\n",
    "        adata.obs[\"predicted_celltype\"] = score_df.idxmax(axis=1)\n",
    "        \n",
    "        self.data = torch.Tensor(np.clip(X, a_min=0, a_max=N_CLASSES - 2).astype(np.int64))\n",
    "        \n",
    "        self.cell_type_labels = pd.get_dummies(adata.obs[\"predicted_celltype\"]).astype(float)\n",
    "        self.label_names = self.cell_type_labels.columns\n",
    "        self.cell_type_labels = torch.Tensor(self.cell_type_labels.values)\n",
    "\n",
    "    def __getitem__(self, index):\n",
    "        \n",
    "        return self.cell_type_labels[index], self.data[index].long()\n",
    "    \n",
    "    def __len__(self):\n",
    "        return len(self.data)\n",
    "\n"
   ]
  },
  {
   "cell_type": "code",
   "execution_count": 63,
   "metadata": {},
   "outputs": [
    {
     "ename": "NameError",
     "evalue": "name 'path' is not defined",
     "output_type": "error",
     "traceback": [
      "\u001b[0;31m---------------------------------------------------------------------------\u001b[0m",
      "\u001b[0;31mNameError\u001b[0m                                 Traceback (most recent call last)",
      "Cell \u001b[0;32mIn[63], line 1\u001b[0m\n\u001b[0;32m----> 1\u001b[0m sc\u001b[38;5;241m.\u001b[39mread_h5ad(\u001b[43mpath\u001b[49m, backed\u001b[38;5;241m=\u001b[39m\u001b[38;5;124m'\u001b[39m\u001b[38;5;124mr\u001b[39m\u001b[38;5;124m'\u001b[39m)\n",
      "\u001b[0;31mNameError\u001b[0m: name 'path' is not defined"
     ]
    }
   ],
   "source": [
    "sc.read_h5ad(path, backed='r')"
   ]
  },
  {
   "cell_type": "code",
   "execution_count": 60,
   "metadata": {},
   "outputs": [
    {
     "name": "stderr",
     "output_type": "stream",
     "text": [
      "/tmp/ipykernel_289561/2486894387.py:37: RuntimeWarning: invalid value encountered in matmul\n",
      "  weighted_score = expr_matrix @ weights\n",
      "/tmp/ipykernel_289561/2486894387.py:42: ImplicitModificationWarning: Trying to modify attribute `.obs` of view, initializing view as actual.\n",
      "  adata.obs[\"predicted_celltype\"] = score_df.idxmax(axis=1)\n"
     ]
    }
   ],
   "source": [
    "data_path = f\"{DATA_PREFIX}/SRP148288_transformed_subset.h5ad\"\n",
    "dataset = SCDataset(data_path=data_path)"
   ]
  },
  {
   "cell_type": "code",
   "execution_count": 62,
   "metadata": {},
   "outputs": [
    {
     "data": {
      "text/plain": [
       "(tensor([0., 0., 0., 0., 0., 1., 0., 0., 0., 0., 0., 0., 0., 0., 0., 0., 0.]),\n",
       " tensor([0, 0, 4,  ..., 0, 0, 0]))"
      ]
     },
     "execution_count": 62,
     "metadata": {},
     "output_type": "execute_result"
    }
   ],
   "source": [
    "dataset[0]"
   ]
  },
  {
   "cell_type": "code",
   "execution_count": null,
   "metadata": {},
   "outputs": [
    {
     "data": {
      "text/plain": [
       "tensor([2655.,   31.,   22.,  968.,  117., 4516.,  332.,  114., 1629.,   28.,\n",
       "        2207., 1283.,   12., 3162., 1125., 6108.,   60.])"
      ]
     },
     "execution_count": 38,
     "metadata": {},
     "output_type": "execute_result"
    }
   ],
   "source": [
    "dataset.cell_type_labels.sum(axis=0)"
   ]
  },
  {
   "cell_type": "code",
   "execution_count": null,
   "metadata": {},
   "outputs": [
    {
     "data": {
      "text/plain": [
       "Index(['Columella root cap', 'Companion cell', 'G1/G0 phase', 'G2/M phase',\n",
       "       'Lateral root cap', 'Metaxylem', 'Non-hair', 'Phloem/Pericycle',\n",
       "       'Protoxylem', 'Root cap', 'Root cortex', 'Root endodermis',\n",
       "       'Root epidermis', 'Root hair', 'Root stele', 'S phase',\n",
       "       'Sieve element'],\n",
       "      dtype='object')"
      ]
     },
     "execution_count": 39,
     "metadata": {},
     "output_type": "execute_result"
    }
   ],
   "source": [
    "dataset.label_names"
   ]
  },
  {
   "cell_type": "markdown",
   "metadata": {},
   "source": [
    "Regresión logística a partir de expresión"
   ]
  },
  {
   "cell_type": "code",
   "execution_count": null,
   "metadata": {},
   "outputs": [],
   "source": []
  },
  {
   "cell_type": "code",
   "execution_count": null,
   "metadata": {},
   "outputs": [
    {
     "name": "stderr",
     "output_type": "stream",
     "text": [
      "/home/rbonazzola/miniconda/envs/scrna/lib/python3.12/site-packages/sklearn/linear_model/_logistic.py:1247: FutureWarning: 'multi_class' was deprecated in version 1.5 and will be removed in 1.7. From then on, it will always use 'multinomial'. Leave it to its default value to avoid this warning.\n",
      "  warnings.warn(\n",
      "/home/rbonazzola/miniconda/envs/scrna/lib/python3.12/site-packages/sklearn/linear_model/_logistic.py:469: ConvergenceWarning: lbfgs failed to converge (status=1):\n",
      "STOP: TOTAL NO. OF ITERATIONS REACHED LIMIT.\n",
      "\n",
      "Increase the number of iterations (max_iter) or scale the data as shown in:\n",
      "    https://scikit-learn.org/stable/modules/preprocessing.html\n",
      "Please also refer to the documentation for alternative solver options:\n",
      "    https://scikit-learn.org/stable/modules/linear_model.html#logistic-regression\n",
      "  n_iter_i = _check_optimize_result(\n"
     ]
    },
    {
     "data": {
      "text/html": [
       "<style>#sk-container-id-7 {\n",
       "  /* Definition of color scheme common for light and dark mode */\n",
       "  --sklearn-color-text: black;\n",
       "  --sklearn-color-line: gray;\n",
       "  /* Definition of color scheme for unfitted estimators */\n",
       "  --sklearn-color-unfitted-level-0: #fff5e6;\n",
       "  --sklearn-color-unfitted-level-1: #f6e4d2;\n",
       "  --sklearn-color-unfitted-level-2: #ffe0b3;\n",
       "  --sklearn-color-unfitted-level-3: chocolate;\n",
       "  /* Definition of color scheme for fitted estimators */\n",
       "  --sklearn-color-fitted-level-0: #f0f8ff;\n",
       "  --sklearn-color-fitted-level-1: #d4ebff;\n",
       "  --sklearn-color-fitted-level-2: #b3dbfd;\n",
       "  --sklearn-color-fitted-level-3: cornflowerblue;\n",
       "\n",
       "  /* Specific color for light theme */\n",
       "  --sklearn-color-text-on-default-background: var(--sg-text-color, var(--theme-code-foreground, var(--jp-content-font-color1, black)));\n",
       "  --sklearn-color-background: var(--sg-background-color, var(--theme-background, var(--jp-layout-color0, white)));\n",
       "  --sklearn-color-border-box: var(--sg-text-color, var(--theme-code-foreground, var(--jp-content-font-color1, black)));\n",
       "  --sklearn-color-icon: #696969;\n",
       "\n",
       "  @media (prefers-color-scheme: dark) {\n",
       "    /* Redefinition of color scheme for dark theme */\n",
       "    --sklearn-color-text-on-default-background: var(--sg-text-color, var(--theme-code-foreground, var(--jp-content-font-color1, white)));\n",
       "    --sklearn-color-background: var(--sg-background-color, var(--theme-background, var(--jp-layout-color0, #111)));\n",
       "    --sklearn-color-border-box: var(--sg-text-color, var(--theme-code-foreground, var(--jp-content-font-color1, white)));\n",
       "    --sklearn-color-icon: #878787;\n",
       "  }\n",
       "}\n",
       "\n",
       "#sk-container-id-7 {\n",
       "  color: var(--sklearn-color-text);\n",
       "}\n",
       "\n",
       "#sk-container-id-7 pre {\n",
       "  padding: 0;\n",
       "}\n",
       "\n",
       "#sk-container-id-7 input.sk-hidden--visually {\n",
       "  border: 0;\n",
       "  clip: rect(1px 1px 1px 1px);\n",
       "  clip: rect(1px, 1px, 1px, 1px);\n",
       "  height: 1px;\n",
       "  margin: -1px;\n",
       "  overflow: hidden;\n",
       "  padding: 0;\n",
       "  position: absolute;\n",
       "  width: 1px;\n",
       "}\n",
       "\n",
       "#sk-container-id-7 div.sk-dashed-wrapped {\n",
       "  border: 1px dashed var(--sklearn-color-line);\n",
       "  margin: 0 0.4em 0.5em 0.4em;\n",
       "  box-sizing: border-box;\n",
       "  padding-bottom: 0.4em;\n",
       "  background-color: var(--sklearn-color-background);\n",
       "}\n",
       "\n",
       "#sk-container-id-7 div.sk-container {\n",
       "  /* jupyter's `normalize.less` sets `[hidden] { display: none; }`\n",
       "     but bootstrap.min.css set `[hidden] { display: none !important; }`\n",
       "     so we also need the `!important` here to be able to override the\n",
       "     default hidden behavior on the sphinx rendered scikit-learn.org.\n",
       "     See: https://github.com/scikit-learn/scikit-learn/issues/21755 */\n",
       "  display: inline-block !important;\n",
       "  position: relative;\n",
       "}\n",
       "\n",
       "#sk-container-id-7 div.sk-text-repr-fallback {\n",
       "  display: none;\n",
       "}\n",
       "\n",
       "div.sk-parallel-item,\n",
       "div.sk-serial,\n",
       "div.sk-item {\n",
       "  /* draw centered vertical line to link estimators */\n",
       "  background-image: linear-gradient(var(--sklearn-color-text-on-default-background), var(--sklearn-color-text-on-default-background));\n",
       "  background-size: 2px 100%;\n",
       "  background-repeat: no-repeat;\n",
       "  background-position: center center;\n",
       "}\n",
       "\n",
       "/* Parallel-specific style estimator block */\n",
       "\n",
       "#sk-container-id-7 div.sk-parallel-item::after {\n",
       "  content: \"\";\n",
       "  width: 100%;\n",
       "  border-bottom: 2px solid var(--sklearn-color-text-on-default-background);\n",
       "  flex-grow: 1;\n",
       "}\n",
       "\n",
       "#sk-container-id-7 div.sk-parallel {\n",
       "  display: flex;\n",
       "  align-items: stretch;\n",
       "  justify-content: center;\n",
       "  background-color: var(--sklearn-color-background);\n",
       "  position: relative;\n",
       "}\n",
       "\n",
       "#sk-container-id-7 div.sk-parallel-item {\n",
       "  display: flex;\n",
       "  flex-direction: column;\n",
       "}\n",
       "\n",
       "#sk-container-id-7 div.sk-parallel-item:first-child::after {\n",
       "  align-self: flex-end;\n",
       "  width: 50%;\n",
       "}\n",
       "\n",
       "#sk-container-id-7 div.sk-parallel-item:last-child::after {\n",
       "  align-self: flex-start;\n",
       "  width: 50%;\n",
       "}\n",
       "\n",
       "#sk-container-id-7 div.sk-parallel-item:only-child::after {\n",
       "  width: 0;\n",
       "}\n",
       "\n",
       "/* Serial-specific style estimator block */\n",
       "\n",
       "#sk-container-id-7 div.sk-serial {\n",
       "  display: flex;\n",
       "  flex-direction: column;\n",
       "  align-items: center;\n",
       "  background-color: var(--sklearn-color-background);\n",
       "  padding-right: 1em;\n",
       "  padding-left: 1em;\n",
       "}\n",
       "\n",
       "\n",
       "/* Toggleable style: style used for estimator/Pipeline/ColumnTransformer box that is\n",
       "clickable and can be expanded/collapsed.\n",
       "- Pipeline and ColumnTransformer use this feature and define the default style\n",
       "- Estimators will overwrite some part of the style using the `sk-estimator` class\n",
       "*/\n",
       "\n",
       "/* Pipeline and ColumnTransformer style (default) */\n",
       "\n",
       "#sk-container-id-7 div.sk-toggleable {\n",
       "  /* Default theme specific background. It is overwritten whether we have a\n",
       "  specific estimator or a Pipeline/ColumnTransformer */\n",
       "  background-color: var(--sklearn-color-background);\n",
       "}\n",
       "\n",
       "/* Toggleable label */\n",
       "#sk-container-id-7 label.sk-toggleable__label {\n",
       "  cursor: pointer;\n",
       "  display: block;\n",
       "  width: 100%;\n",
       "  margin-bottom: 0;\n",
       "  padding: 0.5em;\n",
       "  box-sizing: border-box;\n",
       "  text-align: center;\n",
       "}\n",
       "\n",
       "#sk-container-id-7 label.sk-toggleable__label-arrow:before {\n",
       "  /* Arrow on the left of the label */\n",
       "  content: \"▸\";\n",
       "  float: left;\n",
       "  margin-right: 0.25em;\n",
       "  color: var(--sklearn-color-icon);\n",
       "}\n",
       "\n",
       "#sk-container-id-7 label.sk-toggleable__label-arrow:hover:before {\n",
       "  color: var(--sklearn-color-text);\n",
       "}\n",
       "\n",
       "/* Toggleable content - dropdown */\n",
       "\n",
       "#sk-container-id-7 div.sk-toggleable__content {\n",
       "  max-height: 0;\n",
       "  max-width: 0;\n",
       "  overflow: hidden;\n",
       "  text-align: left;\n",
       "  /* unfitted */\n",
       "  background-color: var(--sklearn-color-unfitted-level-0);\n",
       "}\n",
       "\n",
       "#sk-container-id-7 div.sk-toggleable__content.fitted {\n",
       "  /* fitted */\n",
       "  background-color: var(--sklearn-color-fitted-level-0);\n",
       "}\n",
       "\n",
       "#sk-container-id-7 div.sk-toggleable__content pre {\n",
       "  margin: 0.2em;\n",
       "  border-radius: 0.25em;\n",
       "  color: var(--sklearn-color-text);\n",
       "  /* unfitted */\n",
       "  background-color: var(--sklearn-color-unfitted-level-0);\n",
       "}\n",
       "\n",
       "#sk-container-id-7 div.sk-toggleable__content.fitted pre {\n",
       "  /* unfitted */\n",
       "  background-color: var(--sklearn-color-fitted-level-0);\n",
       "}\n",
       "\n",
       "#sk-container-id-7 input.sk-toggleable__control:checked~div.sk-toggleable__content {\n",
       "  /* Expand drop-down */\n",
       "  max-height: 200px;\n",
       "  max-width: 100%;\n",
       "  overflow: auto;\n",
       "}\n",
       "\n",
       "#sk-container-id-7 input.sk-toggleable__control:checked~label.sk-toggleable__label-arrow:before {\n",
       "  content: \"▾\";\n",
       "}\n",
       "\n",
       "/* Pipeline/ColumnTransformer-specific style */\n",
       "\n",
       "#sk-container-id-7 div.sk-label input.sk-toggleable__control:checked~label.sk-toggleable__label {\n",
       "  color: var(--sklearn-color-text);\n",
       "  background-color: var(--sklearn-color-unfitted-level-2);\n",
       "}\n",
       "\n",
       "#sk-container-id-7 div.sk-label.fitted input.sk-toggleable__control:checked~label.sk-toggleable__label {\n",
       "  background-color: var(--sklearn-color-fitted-level-2);\n",
       "}\n",
       "\n",
       "/* Estimator-specific style */\n",
       "\n",
       "/* Colorize estimator box */\n",
       "#sk-container-id-7 div.sk-estimator input.sk-toggleable__control:checked~label.sk-toggleable__label {\n",
       "  /* unfitted */\n",
       "  background-color: var(--sklearn-color-unfitted-level-2);\n",
       "}\n",
       "\n",
       "#sk-container-id-7 div.sk-estimator.fitted input.sk-toggleable__control:checked~label.sk-toggleable__label {\n",
       "  /* fitted */\n",
       "  background-color: var(--sklearn-color-fitted-level-2);\n",
       "}\n",
       "\n",
       "#sk-container-id-7 div.sk-label label.sk-toggleable__label,\n",
       "#sk-container-id-7 div.sk-label label {\n",
       "  /* The background is the default theme color */\n",
       "  color: var(--sklearn-color-text-on-default-background);\n",
       "}\n",
       "\n",
       "/* On hover, darken the color of the background */\n",
       "#sk-container-id-7 div.sk-label:hover label.sk-toggleable__label {\n",
       "  color: var(--sklearn-color-text);\n",
       "  background-color: var(--sklearn-color-unfitted-level-2);\n",
       "}\n",
       "\n",
       "/* Label box, darken color on hover, fitted */\n",
       "#sk-container-id-7 div.sk-label.fitted:hover label.sk-toggleable__label.fitted {\n",
       "  color: var(--sklearn-color-text);\n",
       "  background-color: var(--sklearn-color-fitted-level-2);\n",
       "}\n",
       "\n",
       "/* Estimator label */\n",
       "\n",
       "#sk-container-id-7 div.sk-label label {\n",
       "  font-family: monospace;\n",
       "  font-weight: bold;\n",
       "  display: inline-block;\n",
       "  line-height: 1.2em;\n",
       "}\n",
       "\n",
       "#sk-container-id-7 div.sk-label-container {\n",
       "  text-align: center;\n",
       "}\n",
       "\n",
       "/* Estimator-specific */\n",
       "#sk-container-id-7 div.sk-estimator {\n",
       "  font-family: monospace;\n",
       "  border: 1px dotted var(--sklearn-color-border-box);\n",
       "  border-radius: 0.25em;\n",
       "  box-sizing: border-box;\n",
       "  margin-bottom: 0.5em;\n",
       "  /* unfitted */\n",
       "  background-color: var(--sklearn-color-unfitted-level-0);\n",
       "}\n",
       "\n",
       "#sk-container-id-7 div.sk-estimator.fitted {\n",
       "  /* fitted */\n",
       "  background-color: var(--sklearn-color-fitted-level-0);\n",
       "}\n",
       "\n",
       "/* on hover */\n",
       "#sk-container-id-7 div.sk-estimator:hover {\n",
       "  /* unfitted */\n",
       "  background-color: var(--sklearn-color-unfitted-level-2);\n",
       "}\n",
       "\n",
       "#sk-container-id-7 div.sk-estimator.fitted:hover {\n",
       "  /* fitted */\n",
       "  background-color: var(--sklearn-color-fitted-level-2);\n",
       "}\n",
       "\n",
       "/* Specification for estimator info (e.g. \"i\" and \"?\") */\n",
       "\n",
       "/* Common style for \"i\" and \"?\" */\n",
       "\n",
       ".sk-estimator-doc-link,\n",
       "a:link.sk-estimator-doc-link,\n",
       "a:visited.sk-estimator-doc-link {\n",
       "  float: right;\n",
       "  font-size: smaller;\n",
       "  line-height: 1em;\n",
       "  font-family: monospace;\n",
       "  background-color: var(--sklearn-color-background);\n",
       "  border-radius: 1em;\n",
       "  height: 1em;\n",
       "  width: 1em;\n",
       "  text-decoration: none !important;\n",
       "  margin-left: 1ex;\n",
       "  /* unfitted */\n",
       "  border: var(--sklearn-color-unfitted-level-1) 1pt solid;\n",
       "  color: var(--sklearn-color-unfitted-level-1);\n",
       "}\n",
       "\n",
       ".sk-estimator-doc-link.fitted,\n",
       "a:link.sk-estimator-doc-link.fitted,\n",
       "a:visited.sk-estimator-doc-link.fitted {\n",
       "  /* fitted */\n",
       "  border: var(--sklearn-color-fitted-level-1) 1pt solid;\n",
       "  color: var(--sklearn-color-fitted-level-1);\n",
       "}\n",
       "\n",
       "/* On hover */\n",
       "div.sk-estimator:hover .sk-estimator-doc-link:hover,\n",
       ".sk-estimator-doc-link:hover,\n",
       "div.sk-label-container:hover .sk-estimator-doc-link:hover,\n",
       ".sk-estimator-doc-link:hover {\n",
       "  /* unfitted */\n",
       "  background-color: var(--sklearn-color-unfitted-level-3);\n",
       "  color: var(--sklearn-color-background);\n",
       "  text-decoration: none;\n",
       "}\n",
       "\n",
       "div.sk-estimator.fitted:hover .sk-estimator-doc-link.fitted:hover,\n",
       ".sk-estimator-doc-link.fitted:hover,\n",
       "div.sk-label-container:hover .sk-estimator-doc-link.fitted:hover,\n",
       ".sk-estimator-doc-link.fitted:hover {\n",
       "  /* fitted */\n",
       "  background-color: var(--sklearn-color-fitted-level-3);\n",
       "  color: var(--sklearn-color-background);\n",
       "  text-decoration: none;\n",
       "}\n",
       "\n",
       "/* Span, style for the box shown on hovering the info icon */\n",
       ".sk-estimator-doc-link span {\n",
       "  display: none;\n",
       "  z-index: 9999;\n",
       "  position: relative;\n",
       "  font-weight: normal;\n",
       "  right: .2ex;\n",
       "  padding: .5ex;\n",
       "  margin: .5ex;\n",
       "  width: min-content;\n",
       "  min-width: 20ex;\n",
       "  max-width: 50ex;\n",
       "  color: var(--sklearn-color-text);\n",
       "  box-shadow: 2pt 2pt 4pt #999;\n",
       "  /* unfitted */\n",
       "  background: var(--sklearn-color-unfitted-level-0);\n",
       "  border: .5pt solid var(--sklearn-color-unfitted-level-3);\n",
       "}\n",
       "\n",
       ".sk-estimator-doc-link.fitted span {\n",
       "  /* fitted */\n",
       "  background: var(--sklearn-color-fitted-level-0);\n",
       "  border: var(--sklearn-color-fitted-level-3);\n",
       "}\n",
       "\n",
       ".sk-estimator-doc-link:hover span {\n",
       "  display: block;\n",
       "}\n",
       "\n",
       "/* \"?\"-specific style due to the `<a>` HTML tag */\n",
       "\n",
       "#sk-container-id-7 a.estimator_doc_link {\n",
       "  float: right;\n",
       "  font-size: 1rem;\n",
       "  line-height: 1em;\n",
       "  font-family: monospace;\n",
       "  background-color: var(--sklearn-color-background);\n",
       "  border-radius: 1rem;\n",
       "  height: 1rem;\n",
       "  width: 1rem;\n",
       "  text-decoration: none;\n",
       "  /* unfitted */\n",
       "  color: var(--sklearn-color-unfitted-level-1);\n",
       "  border: var(--sklearn-color-unfitted-level-1) 1pt solid;\n",
       "}\n",
       "\n",
       "#sk-container-id-7 a.estimator_doc_link.fitted {\n",
       "  /* fitted */\n",
       "  border: var(--sklearn-color-fitted-level-1) 1pt solid;\n",
       "  color: var(--sklearn-color-fitted-level-1);\n",
       "}\n",
       "\n",
       "/* On hover */\n",
       "#sk-container-id-7 a.estimator_doc_link:hover {\n",
       "  /* unfitted */\n",
       "  background-color: var(--sklearn-color-unfitted-level-3);\n",
       "  color: var(--sklearn-color-background);\n",
       "  text-decoration: none;\n",
       "}\n",
       "\n",
       "#sk-container-id-7 a.estimator_doc_link.fitted:hover {\n",
       "  /* fitted */\n",
       "  background-color: var(--sklearn-color-fitted-level-3);\n",
       "}\n",
       "</style><div id=\"sk-container-id-7\" class=\"sk-top-container\"><div class=\"sk-text-repr-fallback\"><pre>LogisticRegression(max_iter=12, multi_class=&#x27;multinomial&#x27;)</pre><b>In a Jupyter environment, please rerun this cell to show the HTML representation or trust the notebook. <br />On GitHub, the HTML representation is unable to render, please try loading this page with nbviewer.org.</b></div><div class=\"sk-container\" hidden><div class=\"sk-item\"><div class=\"sk-estimator fitted sk-toggleable\"><input class=\"sk-toggleable__control sk-hidden--visually\" id=\"sk-estimator-id-7\" type=\"checkbox\" checked><label for=\"sk-estimator-id-7\" class=\"sk-toggleable__label fitted sk-toggleable__label-arrow fitted\">&nbsp;&nbsp;LogisticRegression<a class=\"sk-estimator-doc-link fitted\" rel=\"noreferrer\" target=\"_blank\" href=\"https://scikit-learn.org/1.5/modules/generated/sklearn.linear_model.LogisticRegression.html\">?<span>Documentation for LogisticRegression</span></a><span class=\"sk-estimator-doc-link fitted\">i<span>Fitted</span></span></label><div class=\"sk-toggleable__content fitted\"><pre>LogisticRegression(max_iter=12, multi_class=&#x27;multinomial&#x27;)</pre></div> </div></div></div></div>"
      ],
      "text/plain": [
       "LogisticRegression(max_iter=12, multi_class='multinomial')"
      ]
     },
     "execution_count": 61,
     "metadata": {},
     "output_type": "execute_result"
    }
   ],
   "source": [
    "X_expr = dataset.data.numpy()\n",
    "y = dataset.cell_type_labels.numpy()\n",
    "X_train, X_test, y_train, y_test = train_test_split(X_expr, y, test_size=0.2, random_state=42)\n",
    "y_train = y_train.argmax(axis=1)\n",
    "\n",
    "clf_expr = LogisticRegression(max_iter=12,  multi_class='multinomial', solver='lbfgs')\n",
    "clf_expr.fit(X_train, y_train)"
   ]
  },
  {
   "cell_type": "code",
   "execution_count": null,
   "metadata": {},
   "outputs": [
    {
     "name": "stdout",
     "output_type": "stream",
     "text": [
      "                    precision    recall  f1-score   support\n",
      "\n",
      "Columella root cap       0.78      0.86      0.82       551\n",
      "    Companion cell       0.00      0.00      0.00         2\n",
      "       G1/G0 phase       0.00      0.00      0.00         6\n",
      "        G2/M phase       0.85      0.87      0.86       191\n",
      "  Lateral root cap       0.47      0.27      0.34        26\n",
      "         Metaxylem       0.88      0.84      0.86       904\n",
      "          Non-hair       0.36      0.23      0.28        61\n",
      "  Phloem/Pericycle       1.00      0.11      0.19        28\n",
      "        Protoxylem       0.77      0.66      0.71       304\n",
      "          Root cap       0.00      0.00      0.00         7\n",
      "       Root cortex       0.68      0.80      0.74       413\n",
      "   Root endodermis       0.65      0.70      0.67       266\n",
      "    Root epidermis       0.00      0.00      0.00         4\n",
      "         Root hair       0.77      0.79      0.78       635\n",
      "        Root stele       0.78      0.78      0.78       232\n",
      "           S phase       0.91      0.91      0.91      1233\n",
      "     Sieve element       0.00      0.00      0.00        11\n",
      "\n",
      "          accuracy                           0.81      4874\n",
      "         macro avg       0.52      0.46      0.47      4874\n",
      "      weighted avg       0.81      0.81      0.80      4874\n",
      "\n"
     ]
    },
    {
     "name": "stderr",
     "output_type": "stream",
     "text": [
      "/home/rbonazzola/miniconda/envs/scrna/lib/python3.12/site-packages/sklearn/metrics/_classification.py:1531: UndefinedMetricWarning: Precision is ill-defined and being set to 0.0 in labels with no predicted samples. Use `zero_division` parameter to control this behavior.\n",
      "  _warn_prf(average, modifier, f\"{metric.capitalize()} is\", len(result))\n",
      "/home/rbonazzola/miniconda/envs/scrna/lib/python3.12/site-packages/sklearn/metrics/_classification.py:1531: UndefinedMetricWarning: Precision is ill-defined and being set to 0.0 in labels with no predicted samples. Use `zero_division` parameter to control this behavior.\n",
      "  _warn_prf(average, modifier, f\"{metric.capitalize()} is\", len(result))\n",
      "/home/rbonazzola/miniconda/envs/scrna/lib/python3.12/site-packages/sklearn/metrics/_classification.py:1531: UndefinedMetricWarning: Precision is ill-defined and being set to 0.0 in labels with no predicted samples. Use `zero_division` parameter to control this behavior.\n",
      "  _warn_prf(average, modifier, f\"{metric.capitalize()} is\", len(result))\n"
     ]
    }
   ],
   "source": [
    "y_pred_expr = clf_expr.predict(X_test)\n",
    "print(classification_report(y_test.argmax(axis=1), y_pred_expr, target_names=dataset.label_names))"
   ]
  },
  {
   "cell_type": "code",
   "execution_count": null,
   "metadata": {},
   "outputs": [
    {
     "name": "stderr",
     "output_type": "stream",
     "text": [
      "100%|██████████| 3047/3047 [00:01<00:00, 1837.56it/s]\n"
     ]
    }
   ],
   "source": [
    "# mask = partial(data_mask, mask_prob=0.15)    \n",
    "embeddings = []\n",
    "labels = []\n",
    "\n",
    "dataloader = DataLoader(dataset, batch_size=8, num_workers=8, shuffle=False)\n",
    "\n",
    "for batch in tqdm(dataloader):\n",
    "        \n",
    "    y, x = batch # test_dataset[i].unsqueeze(0).to(device)  \n",
    "    x = x.to(device)\n",
    "    labels.append(y) # x = y.to(device)\n",
    "    # x_masked, _ = mask(x)\n",
    "\n",
    "    # true_labels = test_dataset[i].detach()\n",
    "    # with torch.no_grad():\n",
    "    #     # pred_labels_no_masking = torch.softmax(model(x).squeeze(0), 1).argmax(axis=1)\n",
    "    #     # pred_labels_masking    = torch.softmax(model(x_masked, return_encodings=True).squeeze(0), 1).argmax(axis=1)        \n",
    "    #     output    = model(x, return_encodings=True)[:,0,:]\n",
    "    #     embedding = output.to(\"cpu\")\n",
    "    #     # print(embedding.shape)\n",
    "    #     embeddings.append(embedding)\n",
    "    \n",
    "    # y_true            = true_labels.cpu().numpy()\n",
    "    # y_pred_no_masking = pred_labels_no_masking.cpu().numpy()\n",
    "    # y_pred_masking    = pred_labels_masking.cpu().numpy()\n",
    "    \n",
    "    # bins = range(1, 7)\n",
    "    # cm_no_mask = confusion_matrix(y_true, y_pred_no_masking, labels=bins)\n",
    "    # cm_mask    = confusion_matrix(y_true, y_pred_masking   , labels=bins)\n",
    "    \n",
    "    # disp = ConfusionMatrixDisplay(confusion_matrix=cm_mask, display_labels=[f\"B{i}\" for i in bins])\n",
    "    # disp.plot(cmap=\"Blues\", values_format=\"d\")\n",
    "    # plt.title(\"Confusion Matrix - scBERT\")\n",
    "    # plt.show()\n",
    "\n",
    "    # np.save(\"embeddings_SRP148288_root.npy\", torch.concat(embeddings).numpy())"
   ]
  },
  {
   "cell_type": "code",
   "execution_count": null,
   "metadata": {},
   "outputs": [],
   "source": [
    "one_hot_labels = torch.concat(labels)"
   ]
  },
  {
   "cell_type": "code",
   "execution_count": null,
   "metadata": {},
   "outputs": [],
   "source": [
    "np.save(\"labels.npy\", one_hot_labels.numpy())"
   ]
  },
  {
   "cell_type": "code",
   "execution_count": null,
   "metadata": {},
   "outputs": [],
   "source": [
    "embeddings = np.load(\"embeddings_SRP148288_root.npy\", allow_pickle=True)\n",
    "labels = np.load(\"labels.npy\", allow_pickle=True) "
   ]
  },
  {
   "cell_type": "code",
   "execution_count": null,
   "metadata": {},
   "outputs": [
    {
     "ename": "TypeError",
     "evalue": "concat(): argument 'tensors' (position 1) must be tuple of Tensors, not numpy.ndarray",
     "output_type": "error",
     "traceback": [
      "\u001b[31m---------------------------------------------------------------------------\u001b[39m",
      "\u001b[31mTypeError\u001b[39m                                 Traceback (most recent call last)",
      "\u001b[36mCell\u001b[39m\u001b[36m \u001b[39m\u001b[32mIn[28]\u001b[39m\u001b[32m, line 2\u001b[39m\n\u001b[32m      1\u001b[39m X_emb = torch.Tensor(embeddings)\n\u001b[32m----> \u001b[39m\u001b[32m2\u001b[39m one_hot_labels = \u001b[43mtorch\u001b[49m\u001b[43m.\u001b[49m\u001b[43mconcat\u001b[49m\u001b[43m(\u001b[49m\u001b[43mlabels\u001b[49m\u001b[43m)\u001b[49m\n",
      "\u001b[31mTypeError\u001b[39m: concat(): argument 'tensors' (position 1) must be tuple of Tensors, not numpy.ndarray"
     ]
    }
   ],
   "source": [
    "X_emb = torch.Tensor(embeddings)\n",
    "one_hot_labels = torch.concat(labels)"
   ]
  },
  {
   "cell_type": "code",
   "execution_count": null,
   "metadata": {},
   "outputs": [],
   "source": [
    "# X_expr = dataset.data.numpy()\n",
    "# y = dataset.cell_type_labels.numpy()\n",
    "X_train, X_test, y_train, y_test = train_test_split(X_emb.numpy(), one_hot_labels, test_size=0.2, random_state=42)\n",
    "y_train = y_train.argmax(axis=1)"
   ]
  },
  {
   "cell_type": "markdown",
   "metadata": {},
   "source": [
    "## Determinar condiciones a partir de barcodes"
   ]
  },
  {
   "cell_type": "code",
   "execution_count": null,
   "metadata": {},
   "outputs": [],
   "source": [
    "datapath = \"/home/rodrigo/Descargas/SRP148288/\"\n",
    "\n",
    "infer_condition = lambda file: \"uninduced\" if \"uninduced\" in file else \"induced\"\n",
    "data_and_conditions = [ (os.path.join(datapath, file), infer_condition(file)) for file in os.listdir(datapath) ]"
   ]
  },
  {
   "cell_type": "code",
   "execution_count": 43,
   "metadata": {},
   "outputs": [],
   "source": [
    "cell_ids_per_condition = {\"induced\": [], \"uninduced\": []}\n",
    "for i in range(6):\n",
    "    condition = data_and_conditions[i][1]\n",
    "    file = data_and_conditions[i][0]\n",
    "    (cell_ids := pd.read_csv(file, sep='\\t').columns.to_list())\n",
    "    cell_ids_per_condition[condition].extend(cell_ids)\n",
    "\n",
    "cell_ids_per_condition['induced'] = set(cell_ids_per_condition['induced'])\n",
    "cell_ids_per_condition['induced'].remove(\"GENE\")\n",
    "\n",
    "cell_ids_per_condition['uninduced'] = set(cell_ids_per_condition['uninduced'])\n",
    "cell_ids_per_condition['uninduced'].remove(\"GENE\")"
   ]
  },
  {
   "cell_type": "code",
   "execution_count": null,
   "metadata": {},
   "outputs": [
    {
     "name": "stderr",
     "output_type": "stream",
     "text": [
      "/home/rbonazzola/miniconda/envs/scrna/lib/python3.12/site-packages/sklearn/linear_model/_logistic.py:1247: FutureWarning: 'multi_class' was deprecated in version 1.5 and will be removed in 1.7. From then on, it will always use 'multinomial'. Leave it to its default value to avoid this warning.\n",
      "  warnings.warn(\n"
     ]
    }
   ],
   "source": [
    "clf_expr = LogisticRegression(max_iter=10000,  multi_class='multinomial', solver='lbfgs')\n",
    "clf_expr.fit(X_train, y_train)\n",
    "\n",
    "y_pred_expr = clf_expr.predict(X_test)"
   ]
  },
  {
   "cell_type": "code",
   "execution_count": null,
   "metadata": {},
   "outputs": [
    {
     "ename": "",
     "evalue": "",
     "output_type": "error",
     "traceback": [
      "\u001b[1;31mThe Kernel crashed while executing code in the current cell or a previous cell. \n",
      "\u001b[1;31mPlease review the code in the cell(s) to identify a possible cause of the failure. \n",
      "\u001b[1;31mClick <a href='https://aka.ms/vscodeJupyterKernelCrash'>here</a> for more info. \n",
      "\u001b[1;31mView Jupyter <a href='command:jupyter.viewOutput'>log</a> for further details."
     ]
    }
   ],
   "source": [
    "from sklearn.manifold import TSNE\n",
    "\n",
    "embeddings_tsne = TSNE(n_components=2).fit_transform(embeddings)\n",
    "plt.scatter(embeddings_tsne[:, 0], embeddings_tsne[:, 1], c=y, cmap=\"tab20\")"
   ]
  },
  {
   "cell_type": "markdown",
   "metadata": {},
   "source": [
    "___"
   ]
  },
  {
   "cell_type": "code",
   "execution_count": null,
   "metadata": {},
   "outputs": [],
   "source": []
  },
  {
   "cell_type": "code",
   "execution_count": 146,
   "metadata": {},
   "outputs": [
    {
     "name": "stderr",
     "output_type": "stream",
     "text": [
      "/tmp/ipykernel_289561/2241885972.py:4: FutureWarning: Series.__getitem__ treating keys as positions is deprecated. In a future version, integer keys will always be treated as labels (consistent with DataFrame behavior). To access a value by position, use `ser.iloc[pos]`\n",
      "  conditions = torch.Tensor(adata.obs.Condition == \"Normal\").unsqueeze(1)\n"
     ]
    }
   ],
   "source": [
    "data_path = f\"{DATA_PREFIX}/SRP148288_transformed_subset.h5ad\"\n",
    "\n",
    "adata = sc.read_h5ad(data_path)\n",
    "conditions = torch.Tensor(adata.obs.Condition == \"Normal\").unsqueeze(1)\n",
    "\n",
    "embeddings = np.load(\"embeddings_SRP148288_root.npy\", allow_pickle=True)\n",
    "labels = np.load(\"labels.npy\", allow_pickle=True) \n",
    "X_emb = torch.Tensor(embeddings)"
   ]
  },
  {
   "cell_type": "code",
   "execution_count": 149,
   "metadata": {},
   "outputs": [
    {
     "name": "stderr",
     "output_type": "stream",
     "text": [
      "/home/rodrigo/miniconda/envs/scRNA/lib/python3.10/site-packages/sklearn/utils/validation.py:1408: DataConversionWarning: A column-vector y was passed when a 1d array was expected. Please change the shape of y to (n_samples, ), for example using ravel().\n",
      "  y = column_or_1d(y, warn=True)\n",
      "/home/rodrigo/miniconda/envs/scRNA/lib/python3.10/site-packages/sklearn/linear_model/_logistic.py:1237: FutureWarning: 'multi_class' was deprecated in version 1.5 and will be removed in 1.7. From then on, binary problems will be fit as proper binary  logistic regression models (as if multi_class='ovr' were set). Leave it to its default value to avoid this warning.\n",
      "  warnings.warn(\n"
     ]
    },
    {
     "name": "stdout",
     "output_type": "stream",
     "text": [
      "                        precision    recall  f1-score   support\n",
      "\n",
      "                normal       0.68      0.90      0.77      2038\n",
      "treated with estradiol       0.78      0.47      0.59      1618\n",
      "\n",
      "              accuracy                           0.71      3656\n",
      "             macro avg       0.73      0.69      0.68      3656\n",
      "          weighted avg       0.73      0.71      0.69      3656\n",
      "\n"
     ]
    }
   ],
   "source": [
    "X_train, X_test, y_train, y_test = train_test_split(X_emb.numpy(), conditions.numpy(), test_size=0.15, random_state=42)\n",
    "\n",
    "clf_expr = LogisticRegression(max_iter=10000,  multi_class='multinomial', solver='lbfgs')\n",
    "clf_expr.fit(X_train, y_train)\n",
    "\n",
    "y_pred_emb = clf_expr.predict(X_test)\n",
    "\n",
    "print(classification_report(\n",
    "    y_test, y_pred_emb,\n",
    "    target_names=[\"normal\", \"treated with estradiol\"])\n",
    ")"
   ]
  },
  {
   "cell_type": "code",
   "execution_count": null,
   "metadata": {},
   "outputs": [
    {
     "name": "stderr",
     "output_type": "stream",
     "text": [
      "/home/rodrigo/miniconda/envs/scRNA/lib/python3.10/site-packages/sklearn/utils/validation.py:1408: DataConversionWarning: A column-vector y was passed when a 1d array was expected. Please change the shape of y to (n_samples, ), for example using ravel().\n",
      "  y = column_or_1d(y, warn=True)\n",
      "/home/rodrigo/miniconda/envs/scRNA/lib/python3.10/site-packages/sklearn/linear_model/_logistic.py:1237: FutureWarning: 'multi_class' was deprecated in version 1.5 and will be removed in 1.7. From then on, binary problems will be fit as proper binary  logistic regression models (as if multi_class='ovr' were set). Leave it to its default value to avoid this warning.\n",
      "  warnings.warn(\n"
     ]
    },
    {
     "name": "stdout",
     "output_type": "stream",
     "text": [
      "                        precision    recall  f1-score   support\n",
      "\n",
      "                normal       0.81      0.79      0.80      2709\n",
      "treated with estradiol       0.75      0.77      0.76      2165\n",
      "\n",
      "              accuracy                           0.78      4874\n",
      "             macro avg       0.78      0.78      0.78      4874\n",
      "          weighted avg       0.78      0.78      0.78      4874\n",
      "\n"
     ]
    }
   ],
   "source": [
    "X_expr = adata.X.todense()\n",
    "X_expr = np.asarray(X_expr)\n",
    "X_train, X_test, y_train, y_test = train_test_split(X_expr, conditions.numpy().astype(int), test_size=0.15, random_state=42)\n",
    "# y_train = y_train.argmax(axis=1)\n",
    "\n",
    "clf_expr = LogisticRegression(max_iter=1000, solver='lbfgs', multi_class='multinomial')\n",
    "clf_expr.fit(X_train, y_train)\n",
    "y_pred_expr = clf_expr.predict(X_test)\n",
    "\n",
    "print(classification_report(\n",
    "    y_test, y_pred_expr,\n",
    "    target_names=[\"normal\", \"treated with estradiol\"])\n",
    ")"
   ]
  },
  {
   "cell_type": "code",
   "execution_count": null,
   "metadata": {},
   "outputs": [],
   "source": []
  }
 ],
 "metadata": {
  "kernelspec": {
   "display_name": "scRNA",
   "language": "python",
   "name": "python3"
  },
  "language_info": {
   "codemirror_mode": {
    "name": "ipython",
    "version": 3
   },
   "file_extension": ".py",
   "mimetype": "text/x-python",
   "name": "python",
   "nbconvert_exporter": "python",
   "pygments_lexer": "ipython3",
   "version": "3.10.11"
  }
 },
 "nbformat": 4,
 "nbformat_minor": 2
}
